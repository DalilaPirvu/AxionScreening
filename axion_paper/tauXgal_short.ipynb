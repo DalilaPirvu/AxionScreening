{
 "cells": [
  {
   "cell_type": "code",
   "execution_count": 1,
   "metadata": {
    "tags": []
   },
   "outputs": [
    {
     "name": "stdout",
     "output_type": "stream",
     "text": [
      "/home/dpirvu/axion\n"
     ]
    }
   ],
   "source": [
    "cd '/home/dpirvu/axion/'"
   ]
  },
  {
   "cell_type": "code",
   "execution_count": null,
   "metadata": {
    "tags": []
   },
   "outputs": [
    {
     "name": "stdout",
     "output_type": "stream",
     "text": [
      "['/home/dpirvu/axion', '/cm/shared/apps/python/python37/lib/python37.zip', '/cm/shared/apps/python/python37/lib/python3.7', '/cm/shared/apps/python/python37/lib/python3.7/lib-dynload', '', '/home/dpirvu/.local/lib/python3.7/site-packages', '/cm/shared/apps/python/python37/lib/python3.7/site-packages', '/cm/shared/apps/python/python37/lib/python3.7/site-packages/IPython/extensions', '/home/dpirvu/.ipython', '/home/dpirvu/axion/hmvec-master/']\n"
     ]
    }
   ],
   "source": [
    "%matplotlib inline\n",
    "\n",
    "import os,sys\n",
    "sys.path.remove('/home/dpirvu/DarkPhotonxunWISE/hmvec-master')\n",
    "sys.path.append('/home/dpirvu/axion/hmvec-master/')\n",
    "print([ii for ii in sys.path])\n",
    "\n",
    "import hmvec as hm\n",
    "from compute_power_spectra import *\n",
    "from params import *\n",
    "from plotting import *"
   ]
  },
  {
   "cell_type": "code",
   "execution_count": null,
   "metadata": {
    "tags": []
   },
   "outputs": [],
   "source": [
    "ellMax = 9600\n",
    "ells = np.arange(ellMax)\n",
    "\n",
    "ellFinal = 6001\n",
    "\n",
    "nZs = 50\n",
    "nMs = 100\n",
    "zMin = 0.005\n",
    "zreio = 1.9\n",
    "zMax = zreio\n",
    "\n",
    "ms  = np.geomspace(1e11,1e17, nMs) # masses\n",
    "zs  = np.linspace(0.005,zreio,nZs) # redshifts\n",
    "ks  = np.geomspace(1e-4,1e3, 5001) # wavenumbers\n",
    "\n",
    "rscale = False\n",
    "\n",
    "baseline = ghztoev(353)\n",
    "units = xov(baseline) * baseline\n"
   ]
  },
  {
   "cell_type": "code",
   "execution_count": null,
   "metadata": {
    "tags": []
   },
   "outputs": [],
   "source": [
    "# Select electron profile\n",
    "for name in ['battagliaAGN', 'NFW']:\n",
    "    for color in ['blue', 'green']:\n",
    "        unwise_color = color\n",
    "        for choose in [21]:\n",
    "            choose_dict = choose\n",
    "            print('Doing ', name, unwise_color, choose_dict)\n",
    "\n",
    "            if unwise_color=='blue': pathdndz = \"/home/dpirvu/DarkPhotonxunWISE/dataHOD/normalised_dndz_cosmos_0.txt\"\n",
    "            elif unwise_color=='green': pathdndz = \"/home/dpirvu/DarkPhotonxunWISE/dataHOD/normalised_dndz_cosmos_1.txt\"\n",
    "\n",
    "            # Halo Model\n",
    "            hcos  = hm.HaloModel(zs, ks, ms=ms, mass_function='tinker', mdef='vir', concmode='BHATTACHARYA', unwise_color=unwise_color, choose_dict=choose_dict)\n",
    "            chis  = hcos.comoving_radial_distance(zs)\n",
    "            Hz    = hcos.h_of_z(zs)\n",
    "            nzm   = hcos.get_nzm()\n",
    "            biases= hcos.get_bh()\n",
    "            dvols = get_volume_conv(chis, Hz)\n",
    "\n",
    "            hcos.add_hod(name=unwise_color)\n",
    "            Ncs  = hcos.hods[unwise_color]['Nc']\n",
    "            Nss  = hcos.hods[unwise_color]['Ns']\n",
    "            ngal = hcos.hods[unwise_color]['ngal']\n",
    "            hod, uc, us = hcos._get_hod_common(unwise_color)\n",
    "\n",
    "            dndz, zs, N_gtot, W_g, zsHOD, dndzHOD = get_dndz(zs, pathdndz, dvols)\n",
    "\n",
    "            uk_g   = (      Ncs[None,:,None] + us     * Nss[None,:,None]    ) / ngal[:,None,None]\n",
    "            uk_gsq = (2.*us*Nss[None,:,None] + us**2. * Nss[None,:,None]**2.) / ngal[:,None,None]**2.\n",
    "            PzkLin = hcos._get_matter_power(zs, ks, nonlinear=False)\n",
    "\n",
    "            Pzell, uell_g, uell_gsq = get_fourier_to_multipole_functs(zs, ms, ks, chis, W_g, ellMax, uk_g, uk_gsq, PzkLin)\n",
    "            print('Done turning into multipoles.')\n",
    "\n",
    "            data_save = np.zeros((len(dictKey), ellFinal))\n",
    "            for mind, MA in enumerate(dictKey):\n",
    "                zMin, zMax, rMin, rMax = chooseModel(MA, modelParams)\n",
    "                zMax = min(zreio, zMax)\n",
    "\n",
    "                # HERE YOU NEED TO IMPORT THE PROBABILITY FILE\n",
    "                path_params0 = np.asarray([MA, nZs, zMin, zMax, ellMax, rscale])\n",
    "                rcross, prob, utheta, avtau, dtaudz, uell0 = np.load(data_path(*path_params0), allow_pickle=True)\n",
    "\n",
    "                screeningProbell = (prob * utheta)[None,...] * uell0\n",
    "                zell_tau = (screeningProbell[:ellMax]).transpose(1,2,0) * np.sqrt((4.*np.pi)/(2*ells+1))[None,None,:]\n",
    "\n",
    "                # Assemble power spectra\n",
    "                int_uell_g_1h = np.trapz(nzm[...,None] * uell_gsq         , ms, axis=1)\n",
    "                int_zell_taug = np.trapz(nzm[...,None] * zell_tau * uell_g, ms, axis=1)\n",
    "\n",
    "                int_uell_g_2h = np.trapz(nzm[...,None] * biases[...,None] * uell_g  , ms, axis=1)\n",
    "                int_zell_tau  = np.trapz(nzm[...,None] * biases[...,None] * zell_tau, ms, axis=1)\n",
    "\n",
    "                Cell_taug_1h  = np.trapz(dvols[:,None] * int_zell_taug                       , zs, axis=0)\n",
    "                Cell_taug_2h  = np.trapz(dvols[:,None] * int_zell_tau * int_uell_g_2h * Pzell, zs, axis=0)\n",
    "                Cell_taug_tot = Cell_taug_1h + Cell_taug_2h\n",
    "\n",
    "                data_save[mind] = Cell_taug_tot[:ellFinal] * TCMB * units\n",
    "                print('Done', mind, 'out of', len(dictKey))\n",
    "\n",
    "#            np.save('/home/dpirvu/axion/data_axion_Tg_'+name+'_'+unwise_color+'_HOD'+str(choose_dict)+'.npy', data_save)\n",
    "            print('Done ', name, unwise_color, choose_dict)\n"
   ]
  },
  {
   "cell_type": "code",
   "execution_count": null,
   "metadata": {
    "tags": []
   },
   "outputs": [],
   "source": [
    "bluetest  = np.load('/home/dpirvu/axion/data_axion_Tg_battagliaAGN_blue_HOD21.npy',  allow_pickle=True)\n",
    "greentest = np.load('/home/dpirvu/axion/data_axion_Tg_battagliaAGN_green_HOD21.npy', allow_pickle=True)\n"
   ]
  },
  {
   "cell_type": "code",
   "execution_count": null,
   "metadata": {},
   "outputs": [],
   "source": []
  }
 ],
 "metadata": {
  "kernelspec": {
   "display_name": "Python 3.7 (module)",
   "language": "python",
   "name": "python37-module"
  },
  "language_info": {
   "codemirror_mode": {
    "name": "ipython",
    "version": 3
   },
   "file_extension": ".py",
   "mimetype": "text/x-python",
   "name": "python",
   "nbconvert_exporter": "python",
   "pygments_lexer": "ipython3",
   "version": "3.7.16"
  }
 },
 "nbformat": 4,
 "nbformat_minor": 4
}
